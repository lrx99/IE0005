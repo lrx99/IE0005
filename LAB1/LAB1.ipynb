{
 "cells": [
  {
   "cell_type": "markdown",
   "id": "374eaf07",
   "metadata": {},
   "source": [
    "# Q1"
   ]
  },
  {
   "cell_type": "code",
   "execution_count": 1,
   "id": "48a9fcba",
   "metadata": {},
   "outputs": [
    {
     "name": "stdout",
     "output_type": "stream",
     "text": [
      "captainhook@neverland.com\n",
      "cleopatra@pharaoh.org\n",
      "d.vader@empire.net\n"
     ]
    }
   ],
   "source": [
    "try:\n",
    "    blocklist = open('blocklist.txt', 'r+')\n",
    "except FileNotFoundError:\n",
    "    print('Wrong Directory')\n",
    "d = set(blocklist.read().split())\n",
    "for x in d:\n",
    "    print(x)"
   ]
  },
  {
   "cell_type": "markdown",
   "id": "b703ccf9",
   "metadata": {},
   "source": [
    "# Q2"
   ]
  },
  {
   "cell_type": "code",
   "execution_count": 2,
   "id": "744b74e5",
   "metadata": {},
   "outputs": [
    {
     "name": "stdout",
     "output_type": "stream",
     "text": [
      "6\n",
      "d.vader@empire.net\n"
     ]
    }
   ],
   "source": [
    "visitors = open('visitors.txt')\n",
    "c = set(visitors.read().split())\n",
    "\n",
    "print(len(c))\n",
    "\n",
    "for y in c&d:\n",
    "    print(y)"
   ]
  },
  {
   "cell_type": "markdown",
   "id": "f7455d0f",
   "metadata": {},
   "source": [
    "# Q3"
   ]
  },
  {
   "cell_type": "code",
   "execution_count": 3,
   "id": "43cda058",
   "metadata": {},
   "outputs": [],
   "source": [
    "offender = {'alice@wonderland.co.uk'}\n",
    "\n",
    "for z in offender-d:\n",
    "    blocklist.write('\\n' + z)\n",
    "    \n",
    "blocklist.close()\n",
    "visitors.close()"
   ]
  },
  {
   "cell_type": "code",
   "execution_count": null,
   "id": "ea7f6192",
   "metadata": {},
   "outputs": [],
   "source": []
  },
  {
   "cell_type": "code",
   "execution_count": null,
   "id": "679c01df",
   "metadata": {},
   "outputs": [],
   "source": []
  }
 ],
 "metadata": {
  "kernelspec": {
   "display_name": "Python 3 (ipykernel)",
   "language": "python",
   "name": "python3"
  },
  "language_info": {
   "codemirror_mode": {
    "name": "ipython",
    "version": 3
   },
   "file_extension": ".py",
   "mimetype": "text/x-python",
   "name": "python",
   "nbconvert_exporter": "python",
   "pygments_lexer": "ipython3",
   "version": "3.9.13"
  }
 },
 "nbformat": 4,
 "nbformat_minor": 5
}
